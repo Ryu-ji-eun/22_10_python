{
  "nbformat": 4,
  "nbformat_minor": 0,
  "metadata": {
    "colab": {
      "provenance": [],
      "authorship_tag": "ABX9TyPI6BHFEnviHQ2PdYNza/qr",
      "include_colab_link": true
    },
    "kernelspec": {
      "name": "python3",
      "display_name": "Python 3"
    },
    "language_info": {
      "name": "python"
    }
  },
  "cells": [
    {
      "cell_type": "markdown",
      "metadata": {
        "id": "view-in-github",
        "colab_type": "text"
      },
      "source": [
        "<a href=\"https://colab.research.google.com/github/Ryu-ji-eun/22_10_python/blob/main/Python_001.ipynb\" target=\"_parent\"><img src=\"https://colab.research.google.com/assets/colab-badge.svg\" alt=\"Open In Colab\"/></a>"
      ]
    },
    {
      "cell_type": "code",
      "execution_count": null,
      "metadata": {
        "id": "fLAL3uCHldkX"
      },
      "outputs": [],
      "source": [
        "포렙과"
      ]
    },
    {
      "cell_type": "markdown",
      "source": [],
      "metadata": {
        "id": "Xgk2bR0KmsHx"
      }
    },
    {
      "cell_type": "markdown",
      "source": [],
      "metadata": {
        "id": "IqE8jBL2mqTZ"
      }
    },
    {
      "cell_type": "markdown",
      "source": [
        "**굵은 텍스트**"
      ],
      "metadata": {
        "id": "hj29K036lif6"
      }
    },
    {
      "cell_type": "markdown",
      "source": [],
      "metadata": {
        "id": "qwLz-2PLmvEJ"
      }
    },
    {
      "cell_type": "markdown",
      "source": [
        "포렙과 깃헙의 첫번째 연결을 진행합니다."
      ],
      "metadata": {
        "id": "iUFTWF0nmzn9"
      }
    },
    {
      "cell_type": "code",
      "source": [
        "print(\"hello github\")\n",
        "print(\"hello python\")"
      ],
      "metadata": {
        "colab": {
          "base_uri": "https://localhost:8080/"
        },
        "id": "hb34miUTm74E",
        "outputId": "2791cdd4-2e97-4639-a17a-d5cab9face6e"
      },
      "execution_count": 3,
      "outputs": [
        {
          "output_type": "stream",
          "name": "stdout",
          "text": [
            "hello github\n",
            "hello python\n"
          ]
        }
      ]
    },
    {
      "cell_type": "markdown",
      "source": [],
      "metadata": {
        "id": "_eVblz2LpVoP"
      }
    },
    {
      "cell_type": "code",
      "source": [
        "print(\"안녕하세요\")\n",
        "print(\"Programming에 입문하신것을 환영합니다.\")"
      ],
      "metadata": {
        "colab": {
          "base_uri": "https://localhost:8080/"
        },
        "id": "jvpWKij8paRe",
        "outputId": "10922118-462e-4275-9950-48e75726be97"
      },
      "execution_count": 7,
      "outputs": [
        {
          "output_type": "stream",
          "name": "stdout",
          "text": [
            "안녕하세요\n",
            "Programming에 입문하신것을 환영합니다.\n"
          ]
        }
      ]
    }
  ]
}